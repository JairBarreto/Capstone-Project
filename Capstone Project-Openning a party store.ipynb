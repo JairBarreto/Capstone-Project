{
    "cells": [
        {
            "cell_type": "markdown",
            "metadata": {
                "collapsed": true
            },
            "source": "# Introduction/Business Problem"
        },
        {
            "cell_type": "markdown",
            "metadata": {},
            "source": "The company hitch surprise is a new business that desire open your store in Toronto to offer services about parties, balloons, event planning but they don\u2019t  know where place your operations."
        },
        {
            "cell_type": "markdown",
            "metadata": {},
            "source": "# Data section"
        },
        {
            "cell_type": "markdown",
            "metadata": {},
            "source": "The data for work in this case are extract the neighbours information of the location of restaurants, venues party, hospitals, income, parties stores to choose the best place for locate the new store using Foursquare location data."
        }
    ],
    "metadata": {
        "kernelspec": {
            "display_name": "Python 3.7",
            "language": "python",
            "name": "python3"
        },
        "language_info": {
            "codemirror_mode": {
                "name": "ipython",
                "version": 3
            },
            "file_extension": ".py",
            "mimetype": "text/x-python",
            "name": "python",
            "nbconvert_exporter": "python",
            "pygments_lexer": "ipython3",
            "version": "3.7.10"
        }
    },
    "nbformat": 4,
    "nbformat_minor": 1
}